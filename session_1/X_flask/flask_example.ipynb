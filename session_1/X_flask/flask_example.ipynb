{
 "cells": [
  {
   "cell_type": "code",
   "execution_count": null,
   "metadata": {},
   "outputs": [],
   "source": [
    "\"\"\"\n",
    "We will develop a dummy blockchain using REST APIs as communications channels.\n",
    "This is an small example how it work using Flask (server) and Requests (client)\n",
    "\"\"\"\n",
    "\n",
    "class Peer:\n",
    "    def __init__(self, ip, port):\n",
    "        self.ip = ip\n",
    "        self.port = port\n",
    "        \n",
    "class Blockchain:\n",
    "    def __init__(self):\n",
    "        self.peers = []\n",
    "        # Add more properties here\n",
    "    \n",
    "    def get_last_blocks(lastknown):\n",
    "        blocks = []\n",
    "        # loop blocks\n",
    "        return blocks\n",
    "    \n",
    "    def register_peer(peer):\n",
    "        self.peers.append(peer)"
   ]
  },
  {
   "cell_type": "code",
   "execution_count": null,
   "metadata": {},
   "outputs": [],
   "source": [
    "\"\"\"\n",
    "You can use the program 'oracleLinux64' to deploy a server that you can interact with\n",
    "    - Required handlers:\n",
    "        > POST /peer                  - register with server to receive new blocks and transactions\n",
    "        > GET  /getblocks/{lastknown} - get all new blocks \n",
    "        > POST /addblock              - add a new mined block\n",
    "        > POST /addtx                 - add a new transaction to be included in a new block\n",
    "\"\"\"\n",
    "\n",
    "import json\n",
    "\n",
    "from flask import Flask, jsonify\n",
    "\n",
    "app = Flask(__name__)\n",
    "\n",
    "@app.route('/peer', methods=['POST'])\n",
    "def index():\n",
    "    global blockchain #\n",
    "    record = json.loads(request.data)\n",
    "    if [\"address\", \"port\"] in record:\n",
    "        peer = Peer(record[\"address\"], record[\"port\"]) # Class should be defined\n",
    "        blockchain.savePeer(peer) # Function need to be declared \n",
    "app.run(port=5556)\n"
   ]
  }
 ],
 "metadata": {
  "kernelspec": {
   "display_name": "Python 3",
   "language": "python",
   "name": "python3"
  },
  "language_info": {
   "codemirror_mode": {
    "name": "ipython",
    "version": 3
   },
   "file_extension": ".py",
   "mimetype": "text/x-python",
   "name": "python",
   "nbconvert_exporter": "python",
   "pygments_lexer": "ipython3",
   "version": "3.8.6"
  }
 },
 "nbformat": 4,
 "nbformat_minor": 4
}
