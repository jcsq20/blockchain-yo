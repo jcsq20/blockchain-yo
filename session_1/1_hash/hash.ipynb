{
 "cells": [
  {
   "cell_type": "code",
   "execution_count": 7,
   "metadata": {},
   "outputs": [
    {
     "name": "stdout",
     "output_type": "stream",
     "text": [
      "Hash hex version b'\\x84=\\xe4\\x9a\\xe9h\\x06#\\x86\\x94x\\xc1g\\xb8\\xec\\xd25\\x9d\\xf1\\x1a\\xf6Jcn\\x15=O\\xa9\\x00\\x01T:'\n",
      "Hash string version 843de49ae9680623869478c167b8ecd2359df11af64a636e153d4fa90001543a\n",
      "Truncated:::::: 84\n"
     ]
    }
   ],
   "source": [
    "import time\n",
    "import random\n",
    "import string\n",
    "import hashlib\n",
    "message = \"This is a message to secure its integrity\"\n",
    "hash_funtion = hashlib.sha256()\n",
    "hash_funtion.update(message.encode(\"utf-8\"))\n",
    "hash_hex = hash_funtion.digest()\n",
    "hash_str = hash_funtion.hexdigest()\n",
    "print(\"Hash hex version\", hash_hex)\n",
    "print(\"Hash string version\", hash_str)\n",
    "\n",
    "print(\"Truncated::::::\", hashlib.sha256(message.encode(\"utf-8\")).hexdigest()[0:2])"
   ]
  },
  {
   "cell_type": "code",
   "execution_count": 2,
   "metadata": {},
   "outputs": [
    {
     "name": "stdout",
     "output_type": "stream",
     "text": [
      "Hash value of message1 1228eeb808ee45936257ad3fc715f89de063fa8733a906db92c947f5971235f8\n",
      "Hash value of message2 f1add751ced7e7af1e071b6e7b4c4196aed09ebd2e72077f0379da043e098d47\n"
     ]
    }
   ],
   "source": [
    "message1 = \"The idea is two similar input values have a very different has values\"\n",
    "message2 = \"The idea is two similar input values have a very different has valuez\"\n",
    "print(\"Hash value of message1\", hashlib.sha256(message1.encode(\"utf-8\")).hexdigest())\n",
    "print(\"Hash value of message2\", hashlib.sha256(message2.encode(\"utf-8\")).hexdigest())"
   ]
  },
  {
   "cell_type": "code",
   "execution_count": 4,
   "metadata": {
    "scrolled": false
   },
   "outputs": [
    {
     "name": "stdout",
     "output_type": "stream",
     "text": [
      "Hash value of a long message 82ff957d16bb8d1957ee3afede3841a4b89df35a240a49f970f3efb5b0e2d25d\n"
     ]
    }
   ],
   "source": [
    "# It is not matter how long is the input, the out size is always the same\n",
    "long_message = \"\"\"Lorem ipsum dolor sit amet, consectetur adipiscing elit, sed do \n",
    "             eiusmod tempor incididunt ut labore et dolore magna aliqua. Ut \n",
    "             enim ad minim veniam, quis nostrud exercitation ullamco laboris \n",
    "             nisi ut aliquip ex ea commodo consequat. Duis aute irure dolor \n",
    "             in reprehenderit in voluptate velit esse cillum dolore eu fugiat \n",
    "             nulla pariatur. Excepteur sint occaecat cupidatat non proident, \n",
    "             sunt in culpa qui officia deserunt mollit anim id est laborum dsfsdfsdafasdafasadfsdfsdfas fsfsfd\"\"\"\n",
    "print(\"Hash value of a long message\", hashlib.sha256(long_message.encode(\"utf-8\")).hexdigest())"
   ]
  },
  {
   "cell_type": "code",
   "execution_count": 3,
   "metadata": {},
   "outputs": [
    {
     "name": "stdout",
     "output_type": "stream",
     "text": [
      "Truncado\n",
      "d8\n",
      "d8\n",
      "En bits: 2 --- 0.006361484527587891 seconds ---\n",
      "Truncado\n",
      "3068430d\n",
      "3068430d\n",
      "En bits: 8 --- 0.021636247634887695 seconds ---\n",
      "Truncado\n",
      "4a8596a7790b5ca9\n",
      "4a8596a7790b5ca9\n",
      "En bits: 16 --- 0.049553632736206055 seconds ---\n",
      "Truncado\n",
      "dcaadad1cfce437735b81ab0\n",
      "dcaadad1cfce437735b81ab0\n",
      "En bits: 24 --- 0.054390668869018555 seconds ---\n"
     ]
    }
   ],
   "source": [
    "\"\"\"\n",
    "Collision exercise \n",
    "- Truncating a hash function using only its X most significant bit, where X is 8, 16, 24\n",
    "    - Find two input values that have the same hash value \n",
    "\"\"\"\n",
    "import random as r\n",
    "import hashlib\n",
    "import time\n",
    "def collition(bits):\n",
    "    bandera=True\n",
    "    while(bandera):\n",
    "        msj = str(r.randrange(501))\n",
    "        ms2 = str(r.randrange(501))\n",
    "        hsh1 = hashlib.sha256(msj.encode(\"utf-8\")).hexdigest()[0:bits]\n",
    "        hsh2 = hashlib.sha256(ms2.encode(\"utf-8\")).hexdigest()[0:bits]\n",
    "        if hsh1 == hsh2:\n",
    "            print(\"Truncado\")\n",
    "            print(hsh1)\n",
    "            print(hsh2)\n",
    "            bandera=False\n",
    "\n",
    "start_time = time.time()\n",
    "collition(2)\n",
    "print(\"En bits: 2\",\"--- %s seconds ---\" % (time.time() - start_time))\n",
    "collition(8)\n",
    "print(\"En bits: 8\",\"--- %s seconds ---\" % (time.time() - start_time))\n",
    "collition(16)\n",
    "print(\"En bits: 16\",\"--- %s seconds ---\" % (time.time() - start_time))\n",
    "collition(24)\n",
    "print(\"En bits: 24\",\"--- %s seconds ---\" % (time.time() - start_time))"
   ]
  },
  {
   "cell_type": "code",
   "execution_count": null,
   "metadata": {},
   "outputs": [],
   "source": [
    "\"\"\"\n",
    "Pre-image exercise \n",
    "- Truncating a hash function using only its X most significant bit, where X is 8, 16, 24\n",
    "    - Find an input value that has the same hash value as follows:\n",
    "    - 16 bits -> '280d'\n",
    "    - 32 bits -> 'deec7cba'\n",
    "    - 64 bits -> 'ef7797e13d3a7552'\n",
    "- all inputs are regex [a-z] only\n",
    "\"\"\"\n",
    "def find_preimage(preimage):\n",
    "    pass\n",
    "\n",
    "preimage = '280d'\n",
    "start_time = time.time()\n",
    "find_preimage(preimage)\n",
    "print(\"--- %s seconds ---\" % (time.time() - start_time))"
   ]
  },
  {
   "cell_type": "code",
   "execution_count": null,
   "metadata": {},
   "outputs": [],
   "source": []
  }
 ],
 "metadata": {
  "kernelspec": {
   "display_name": "Python 3",
   "language": "python",
   "name": "python3"
  },
  "language_info": {
   "codemirror_mode": {
    "name": "ipython",
    "version": 3
   },
   "file_extension": ".py",
   "mimetype": "text/x-python",
   "name": "python",
   "nbconvert_exporter": "python",
   "pygments_lexer": "ipython3",
   "version": "3.7.3"
  }
 },
 "nbformat": 4,
 "nbformat_minor": 4
}
