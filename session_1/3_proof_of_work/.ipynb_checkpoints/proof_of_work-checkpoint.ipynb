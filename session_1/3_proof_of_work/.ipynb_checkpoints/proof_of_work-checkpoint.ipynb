{
 "cells": [
  {
   "cell_type": "code",
   "execution_count": 20,
   "metadata": {},
   "outputs": [
    {
     "name": "stdout",
     "output_type": "stream",
     "text": [
      "miner1 has found block #0, hash: 000034208c9529b9b0618477b5d8b918b9aa53223b37be032904b0e82fef6ebfminer2 has found block #0, hash: 0001ef2dea963931752ffbc61042a3c9f2890c81e1e80966eb436306e719f8f0\n",
      "\n",
      "miner1 has found block #1, hash: 000103fbb3b30deadcf6e1bce75c1aaf90557be66f7ccaedf4f2fc1f4f8d4bf3\n",
      "miner2 has found block #1, hash: 00011fe572b1e5333889ca7874eeba8df001a6774be9b4307007317258cdd4b1\n",
      "miner2 has found block #2, hash: 0002cf298639d5d75e0057fb3da5d84736d14d94aad68bd99e89e42b6b9016ea\n",
      "miner1 has found block #3, hash: 0001d380b7c1ce28eff5444cc55e70b399c2b1a2c6683af16c05b7cfffb68140\n",
      "miner3 has found block #4, hash: 0001a4fe9fd8ae075696cdbef1b69c6c2cfcdae85293a71b81f5d844c2512e79\n",
      "miner1 has found block #5, hash: 0000d7f2c6e69cb4ddae27a2169032ff2db403604ba8aaabf74e0dca827c411d\n",
      "miner1 has found block #6, hash: 0000d80d5129cb50499e22ee5aedf58d5ee2c554034e6ed4cfeac004f4cf9157miner2 has found block #6, hash: 00015c2fc603dabec6c6dd8d81024768fdf423a54de7b26b457f605a06c37dac\n",
      "\n",
      "miner2 has found block #7, hash: 000155febdcf1ae5521c09b7298f5ea83ef3caf96d5e09f449abb66363e15b26\n",
      "miner1 has found block #8, hash: 00036961a70c31a65ce427acdfa0a717e549d37d54114d90333d6a09cb26353a\n",
      "miner3 has found block #9, hash: 0001a8e1eadf843314f949c162b6ac5f162dfc9e783cd1ff1257a008a5f3bf79\n",
      "--- 0.2595655918121338 seconds ---\n"
     ]
    }
   ],
   "source": [
    "\"\"\"\n",
    "Using multithread, simulate 3 miners competing in PoW\n",
    "- Consider the difficulty\n",
    "- Which miner/thread mines most of the blocks?\n",
    "- How long more does it take when you increase the difficulty by 2 bits?\n",
    "- Any difference if you include a delay of 100 ms and 200 ms in miners 2 and 3 respectively?\n",
    "    - Assuming miners 2 and 3 work together, do they mine more blocks that miner 1?\n",
    "\"\"\"\n",
    "\n",
    "import time\n",
    "import struct\n",
    "import random\n",
    "import hashlib\n",
    "import binascii\n",
    "import threading\n",
    "\n",
    "DIFFICULTY_BITS = 19 \n",
    "\n",
    "current_block = 0\n",
    "\n",
    "def thread_function(name, block, delay=0):\n",
    "    global current_block\n",
    "    while block == current_block: # si es diferente, significa que otro hilo encontro el block\n",
    "        nonce = random.getrandbits(32)\n",
    "        _bytes = nonce.to_bytes(length=4, byteorder = 'big')\n",
    "        _hash = hashlib.sha256(_bytes).digest()\n",
    "        int_hash = int.from_bytes(_hash, byteorder = 'big')\n",
    "        if int_hash.bit_length() <= (256 - DIFFICULTY_BITS):\n",
    "            print(\"%s has found block #%d, hash: %s\" % (name, block, _hash.hex()))\n",
    "            current_block += 1\n",
    "            break\n",
    "\n",
    "        \n",
    "start_time = time.time()\n",
    "for x in range(10):\n",
    "    current_block = x\n",
    "    miner_1 = threading.Thread(target=thread_function, args=(\"miner1\", x, 0))\n",
    "    miner_2 = threading.Thread(target=thread_function, args=(\"miner2\", x, 0))\n",
    "    miner_3 = threading.Thread(target=thread_function, args=(\"miner3\", x, 0))\n",
    "    \n",
    "    miner_1.start()\n",
    "    miner_2.start()\n",
    "    miner_3.start()\n",
    "    \n",
    "    miner_1.join()\n",
    "    miner_2.join()\n",
    "    miner_3.join()\n",
    "print(\"--- %s seconds ---\" % (time.time() - start_time))"
   ]
  },
  {
   "cell_type": "code",
   "execution_count": null,
   "metadata": {},
   "outputs": [],
   "source": []
  }
 ],
 "metadata": {
  "kernelspec": {
   "display_name": "Python 3",
   "language": "python",
   "name": "python3"
  },
  "language_info": {
   "codemirror_mode": {
    "name": "ipython",
    "version": 3
   },
   "file_extension": ".py",
   "mimetype": "text/x-python",
   "name": "python",
   "nbconvert_exporter": "python",
   "pygments_lexer": "ipython3",
   "version": "3.8.6"
  }
 },
 "nbformat": 4,
 "nbformat_minor": 4
}
