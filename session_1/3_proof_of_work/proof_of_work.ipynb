{
 "cells": [
  {
   "cell_type": "code",
   "execution_count": 1,
   "metadata": {},
   "outputs": [
    {
     "output_type": "stream",
     "name": "stdout",
     "text": [
      "miner1 has found block #0, hash: 00002585de69ce44f728245970eafb1699ab171b764cde477be5100cbbcca643\n",
      "miner1 has found block #1, hash: 00007201da17dabd0fb2ffd775c7b86f5b70c9dd0e5bd0aebccd53bfac6fc068\n",
      "miner1 has found block #2, hash: 0000411f2be68d5cc7c933e612fb9e050af5d8052caa4b6e55bb37aa34b55ee0\n",
      "miner1 has found block #3, hash: 00006a54b9ebc3e4fdf42ac3204ee7a9c9eb895c04aba00840378ee51ed4377c\n",
      "miner1 has found block #4, hash: 0000109928e7e5bb0ccffac762a4c9f026d679d189f57c30fec447862dd3011e\n",
      "miner2 has found block #5, hash: 0000488b76b37e00bd529f6d922b0fa9bf82a928bc55429d229bf2f6660e6e25\n",
      "miner3 has found block #6, hash: 00006ed03c81a593e70400c41a9ea08eb4e6d2568432109624d0ab23d1b0494e\n",
      "miner2 has found block #7, hash: 000006d9a6c8e1d7b2cf0564710bda793dfbd3be1e527adfbbfb64804758de06\n",
      "miner3 has found block #8, hash: 000043ba52072e499eae90ae0eff43be23290319ab9f2fbedff630c836e6ee62miner1 has found block #8, hash: 00005c4c0bb45a27a5284337b87afac327223a3bfa36245514756bf64ecddbb3\n",
      "\n",
      "miner3 has found block #9, hash: 0000547a8a8d638d4e21bb81b0be72059c0fcf2739bbd02a8a856c3ff5b8b33a\n",
      "--- 4.9123148918151855 seconds ---\n"
     ]
    }
   ],
   "source": [
    "\"\"\"\n",
    "Using multithread, simulate 3 miners competing in PoW\n",
    "- Consider the difficulty\n",
    "- Which miner/thread mines most of the blocks?\n",
    "- How long more does it take when you increase the difficulty by 2 bits?\n",
    "- Any difference if you include a delay of 100 ms and 200 ms in miners 2 and 3 respectively?\n",
    "    - Assuming miners 2 and 3 work together, do they mine more blocks that miner 1?\n",
    "\"\"\"\n",
    "\n",
    "import time\n",
    "import struct\n",
    "import random\n",
    "import hashlib\n",
    "import binascii\n",
    "import threading\n",
    "\n",
    "DIFFICULTY_BITS = 17\n",
    "\n",
    "current_block = 0\n",
    "\n",
    "def thread_function(name, block, delay=0):\n",
    "    global current_block\n",
    "    while block == current_block: # si es diferente, significa que otro hilo encontro el block\n",
    "        nonce = random.getrandbits(32)\n",
    "        _bytes = nonce.to_bytes(length=4, byteorder = 'big')\n",
    "        _hash = hashlib.sha256(_bytes).digest()\n",
    "        int_hash = int.from_bytes(_hash, byteorder = 'big')\n",
    "        if int_hash.bit_length() <= (256 - DIFFICULTY_BITS):\n",
    "            print(\"%s has found block #%d, hash: %s\" % (name, block, _hash.hex()))\n",
    "            current_block += 1\n",
    "            break\n",
    "    \n",
    "start_time = time.time()\n",
    "for x in range(10):\n",
    "    current_block = x\n",
    "    miner_1 = threading.Thread(target=thread_function, args=(\"miner1\", x, 0))\n",
    "    miner_2 = threading.Thread(target=thread_function, args=(\"miner2\", x, 0))\n",
    "    miner_3 = threading.Thread(target=thread_function, args=(\"miner3\", x, 0))\n",
    "    \n",
    "    miner_1.start()\n",
    "    miner_2.start()\n",
    "    miner_3.start()\n",
    "    \n",
    "    miner_1.join()\n",
    "    miner_2.join()\n",
    "    miner_3.join()\n",
    "print(\"--- %s seconds ---\" % (time.time() - start_time))"
   ]
  },
  {
   "cell_type": "code",
   "execution_count": null,
   "metadata": {},
   "outputs": [],
   "source": []
  }
 ],
 "metadata": {
  "kernelspec": {
   "display_name": "Python 3",
   "language": "python",
   "name": "python3"
  },
  "language_info": {
   "codemirror_mode": {
    "name": "ipython",
    "version": 3
   },
   "file_extension": ".py",
   "mimetype": "text/x-python",
   "name": "python",
   "nbconvert_exporter": "python",
   "pygments_lexer": "ipython3",
   "version": "3.8.2-final"
  }
 },
 "nbformat": 4,
 "nbformat_minor": 4
}