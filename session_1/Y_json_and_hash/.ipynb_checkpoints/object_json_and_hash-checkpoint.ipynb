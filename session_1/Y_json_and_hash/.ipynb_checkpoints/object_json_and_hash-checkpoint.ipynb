{
 "cells": [
  {
   "cell_type": "code",
   "execution_count": 5,
   "metadata": {},
   "outputs": [
    {
     "name": "stdout",
     "output_type": "stream",
     "text": [
      "object transformed to JSON:  {\"src\": \"\", \"dst\": \"555555555555\", \"amount\": 6900000}\n",
      "JSON hash:  6c9f9745983984ea2c59c07f1ac6389ef77a83fa64b9f404d896df2ec31de238\n"
     ]
    },
    {
     "data": {
      "text/plain": [
       "str"
      ]
     },
     "execution_count": 5,
     "metadata": {},
     "output_type": "execute_result"
    }
   ],
   "source": [
    "import json\n",
    "import hashlib\n",
    "\n",
    "class Transaction(object):\n",
    "    def __init__(self, src, dst, amount):\n",
    "        self.src = src\n",
    "        self.dst = dst\n",
    "        self.amount = amount\n",
    "        \n",
    "    def toJSON(self):\n",
    "        return json.dumps(self.__dict__) \n",
    "\n",
    "\n",
    "tx0 = Transaction(\"\", \"555555555555\", 6900000)\n",
    "tx0_json = tx0.toJSON()\n",
    "print(type(tx0_json))\n",
    "print(\"object transformed to JSON: \", tx0_json)\n",
    "print(\"JSON hash: \", hashlib.sha256(tx0_json.encode('utf-8')).hexdigest())\n",
    "type(hashlib.sha256(tx0_json.encode('utf-8')).hexdigest())\n"
   ]
  },
  {
   "cell_type": "code",
   "execution_count": null,
   "metadata": {},
   "outputs": [],
   "source": []
  },
  {
   "cell_type": "code",
   "execution_count": null,
   "metadata": {},
   "outputs": [],
   "source": []
  }
 ],
 "metadata": {
  "kernelspec": {
   "display_name": "Python 3",
   "language": "python",
   "name": "python3"
  },
  "language_info": {
   "codemirror_mode": {
    "name": "ipython",
    "version": 3
   },
   "file_extension": ".py",
   "mimetype": "text/x-python",
   "name": "python",
   "nbconvert_exporter": "python",
   "pygments_lexer": "ipython3",
   "version": "3.7.3"
  }
 },
 "nbformat": 4,
 "nbformat_minor": 4
}
