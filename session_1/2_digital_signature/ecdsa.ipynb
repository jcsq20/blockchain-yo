{
 "cells": [
  {
   "cell_type": "code",
   "execution_count": 1,
   "metadata": {},
   "outputs": [
    {
     "name": "stdout",
     "output_type": "stream",
     "text": [
      "True\n",
      "False\n",
      "True\n"
     ]
    }
   ],
   "source": [
    "import hashlib\n",
    "\n",
    "from ecdsa import SigningKey, VerifyingKey, NIST256p\n",
    "\n",
    "\"\"\"\n",
    "- Using ECDSA package, validate the following signatures using parameters NIST256p and SHA256\n",
    "\"\"\"\n",
    "\n",
    "sig1 = {\n",
    "    \"public_key_str\": \"3cf3e5a9a4e59a9018e2e634e5f81dda5bec733a640c3cae42de9630d2b03b59fe4c25617636125a760a624b8e660fa9a8fb633beacff6909fbc08b5f421163d\",\n",
    "    \"message_str\": \"Make sure you validate this\",\n",
    "    \"signature\": \"34e5a3f380e654fb5918bb5c0b0751bb47ee47b5b9a0b12ce4ec9a09b40ed60a78cdace5f2f9fad01d4b991ae168ae021ff518a151e4012bd016b1ad498b9dec\"\n",
    "    \n",
    "}\n",
    "\n",
    "sig2 = {\n",
    "    \"public_key_str\": \"87323d4b2239c2695cf72d2a2278bda698a38677a9dbbca594a36e309b6debd1274b3073581f2eed9225460412f1b8a5ec7f483dd4c3d596dcb2e77056d6183f\",\n",
    "    \"message_str\": \"Are you sure this is correct?\",\n",
    "    \"signature\": \"79bea5181f3a0101367543fe24ff1e9ffe482b3601a688fcfd822aee6fe1f3086b2672f8bb150b417086a6cc49830653e9819249dbc08847664558e13d62953c\"\n",
    "    \n",
    "}\n",
    "\n",
    "sig3 = {\n",
    "    \"public_key_str\": \"87323d4b2239c2695cf72d2a2278bda698a38677a9dbbca594a36e309b6debd1274b3073581f2eed9225460412f1b8a5ec7f483dd4c3d596dcb2e77056d6183f\",\n",
    "    \"message_str\": \"Are you sure this is correct?\",\n",
    "    \"signature\": \"79bea5181f3a0101367543fe24ff1e9ffe482b3601a688fcfd822aee6fe1f3086b2672f8bb150b417086a6cc49830653e9819249dbc08847664558e13d62953b\"\n",
    "    \n",
    "}\n",
    "import hashlib\n",
    "\n",
    "from ecdsa import SigningKey, VerifyingKey, NIST256p\n",
    "\n",
    "\"\"\"\n",
    "- Using ECDSA package, validate the following signatures using parameters NIST256p and SHA256\n",
    "\"\"\"\n",
    "\n",
    "sig1 = {\n",
    "    \"public_key_str\": \"3cf3e5a9a4e59a9018e2e634e5f81dda5bec733a640c3cae42de9630d2b03b59fe4c25617636125a760a624b8e660fa9a8fb633beacff6909fbc08b5f421163d\",\n",
    "    \"message_str\": \"Make sure you validate this\",\n",
    "    \"signature\": \"34e5a3f380e654fb5918bb5c0b0751bb47ee47b5b9a0b12ce4ec9a09b40ed60a78cdace5f2f9fad01d4b991ae168ae021ff518a151e4012bd016b1ad498b9dec\"\n",
    "    \n",
    "}\n",
    "\n",
    "sig2 = {\n",
    "\n",
    "    \"public_key_str\": \"87323d4b2239c2695cf72d2a2278bda698a38677a9dbbca594a36e309b6debd1274b3073581f2eed9225460412f1b8a5ec7f483dd4c3d596dcb2e77056d6183f\",\n",
    "    \"message_str\": \"Are you sure this is correct?\",\n",
    "    \"signature\": \"79bea5181f3a0101367543fe24ff1e9ffe482b3601a688fcfd822aee6fe1f3086b2672f8bb150b417086a6cc49830653e9819249dbc08847664558e13d62953c\"\n",
    "    \n",
    "}\n",
    "\n",
    "sig3 = {\n",
    "    \"public_key_str\": \"87323d4b2239c2695cf72d2a2278bda698a38677a9dbbca594a36e309b6debd1274b3073581f2eed9225460412f1b8a5ec7f483dd4c3d596dcb2e77056d6183f\",\n",
    "    \"message_str\": \"Are you sure this is correct?\",\n",
    "    \"signature\": \"79bea5181f3a0101367543fe24ff1e9ffe482b3601a688fcfd822aee6fe1f3086b2672f8bb150b417086a6cc49830653e9819249dbc08847664558e13d62953b\"\n",
    "    \n",
    "}\n",
    "\n",
    "def leer_llaves(sig:{}):\n",
    "    public_key_str=sig.get(\"public_key_str\",None)\n",
    "    message_str=sig.get(\"message_str\",None)\n",
    "    signature = sig.get(\"signature\",None)\n",
    "    vk = VerifyingKey.from_string(bytes.fromhex(public_key_str),curve=NIST256p, hashfunc=hashlib.sha256)\n",
    "    try:\n",
    "        r = vk.verify(bytes.fromhex(signature),message_str.encode(\"utf-8\"))\n",
    "        print(r)\n",
    "    except Exception as e:\n",
    "        print(\"False\")\n",
    "\n",
    "leer_llaves(sig1)\n",
    "leer_llaves(sig2)\n",
    "leer_llaves(sig3)"
   ]
  },
  {
   "cell_type": "code",
   "execution_count": null,
   "metadata": {},
   "outputs": [],
   "source": []
  }
 ],
 "metadata": {
  "kernelspec": {
   "display_name": "Python 3",
   "language": "python",
   "name": "python3"
  },
  "language_info": {
   "codemirror_mode": {
    "name": "ipython",
    "version": 3
   },
   "file_extension": ".py",
   "mimetype": "text/x-python",
   "name": "python",
   "nbconvert_exporter": "python",
   "pygments_lexer": "ipython3",
   "version": "3.7.3"
  }
 },
 "nbformat": 4,
 "nbformat_minor": 4
}
