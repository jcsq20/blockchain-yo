{
 "cells": [
  {
   "cell_type": "code",
   "execution_count": 22,
   "metadata": {
    "collapsed": true
   },
   "outputs": [
    {
     "name": "stdout",
     "output_type": "stream",
     "text": [
      "b7d3319e67bfc42bc2013a6ca62152fcf5f43a6696adfb70e8bed24ed91e6af6\n"
     ]
    }
   ],
   "source": [
    "import hashlib\n",
    "\n",
    "class MerkleTree:\n",
    "    def __init__(self):\n",
    "        pass\n",
    "    \n",
    "    def push(data): # input should be in bytes\n",
    "        pass\n",
    "    \n",
    "    def root(): # return bytes\n",
    "        pass\n",
    "    \n",
    "class Node:\n",
    "    def __init__(self, left, right=b''):\n",
    "        pass\n",
    "    \n",
    "class Leaf:\n",
    "    def __init__():\n",
    "        pass\n",
    "    \n",
    "mk = MerkleTree()\n",
    "mk.push(bytes(\"A\", \"utf-8\"))\n",
    "mk.push(bytes(\"B\", \"utf-8\"))\n",
    "mk.push(bytes(\"C\", \"utf-8\"))\n",
    "mk.push(bytes(\"D\", \"utf-8\"))\n",
    "mk.push(bytes(\"E\", \"utf-8\"))\n",
    "mk.push(bytes(\"F\", \"utf-8\"))\n",
    "mk.push(bytes(\"G\", \"utf-8\"))\n",
    "print(mk.root()) # Expected = 'b7d3319e67bfc42bc2013a6ca62152fcf5f43a6696adfb70e8bed24ed91e6af6'"
   ]
  },
  {
   "cell_type": "code",
   "execution_count": null,
   "metadata": {},
   "outputs": [],
   "source": []
  }
 ],
 "metadata": {
  "kernelspec": {
   "display_name": "Python 3",
   "language": "python",
   "name": "python3"
  },
  "language_info": {
   "codemirror_mode": {
    "name": "ipython",
    "version": 3
   },
   "file_extension": ".py",
   "mimetype": "text/x-python",
   "name": "python",
   "nbconvert_exporter": "python",
   "pygments_lexer": "ipython3",
   "version": "3.8.6"
  }
 },
 "nbformat": 4,
 "nbformat_minor": 4
}
